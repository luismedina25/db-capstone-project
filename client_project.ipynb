{
 "cells": [
  {
   "cell_type": "code",
   "execution_count": 1,
   "metadata": {},
   "outputs": [
    {
     "name": "stdout",
     "output_type": "stream",
     "text": [
      "Collecting mysql-connector-python\n",
      "  Downloading mysql_connector_python-8.1.0-cp38-cp38-win_amd64.whl (10.8 MB)\n",
      "Collecting protobuf<=4.21.12,>=4.21.1\n",
      "  Downloading protobuf-4.21.12-cp38-cp38-win_amd64.whl (527 kB)\n",
      "Installing collected packages: protobuf, mysql-connector-python\n",
      "Successfully installed mysql-connector-python-8.1.0 protobuf-4.21.12\n"
     ]
    },
    {
     "name": "stderr",
     "output_type": "stream",
     "text": [
      "WARNING: You are using pip version 21.0.1; however, version 23.2.1 is available.\n",
      "You should consider upgrading via the 'C:\\Users\\luism\\AppData\\Local\\Microsoft\\WindowsApps\\PythonSoftwareFoundation.Python.3.8_qbz5n2kfra8p0\\python.exe -m pip install --upgrade pip' command.\n"
     ]
    }
   ],
   "source": [
    "!pip install mysql-connector-python"
   ]
  },
  {
   "cell_type": "code",
   "execution_count": 1,
   "metadata": {},
   "outputs": [],
   "source": [
    "import mysql.connector as connector"
   ]
  },
  {
   "cell_type": "code",
   "execution_count": 5,
   "metadata": {},
   "outputs": [],
   "source": [
    "connection = connector.connect(user=\"root\", password=\"\", db= \"littlelemondm\")\n",
    "cursor = connection.cursor()"
   ]
  },
  {
   "cell_type": "code",
   "execution_count": 7,
   "metadata": {},
   "outputs": [
    {
     "ename": "InternalError",
     "evalue": "Unread result found",
     "output_type": "error",
     "traceback": [
      "\u001b[1;31m---------------------------------------------------------------------------\u001b[0m",
      "\u001b[1;31mInternalError\u001b[0m                             Traceback (most recent call last)",
      "\u001b[1;32mc:\\Users\\luism\\Desktop\\db-capstone-project\\db-capstone-project\\client_project.ipynb Cell 4\u001b[0m line \u001b[0;36m2\n\u001b[0;32m      <a href='vscode-notebook-cell:/c%3A/Users/luism/Desktop/db-capstone-project/db-capstone-project/client_project.ipynb#W3sZmlsZQ%3D%3D?line=0'>1</a>\u001b[0m show_tables_query \u001b[39m=\u001b[39m \u001b[39m\"\u001b[39m\u001b[39mSHOW tables\u001b[39m\u001b[39m\"\u001b[39m\n\u001b[1;32m----> <a href='vscode-notebook-cell:/c%3A/Users/luism/Desktop/db-capstone-project/db-capstone-project/client_project.ipynb#W3sZmlsZQ%3D%3D?line=1'>2</a>\u001b[0m cursor\u001b[39m.\u001b[39;49mexecute(show_tables_query)\n\u001b[0;32m      <a href='vscode-notebook-cell:/c%3A/Users/luism/Desktop/db-capstone-project/db-capstone-project/client_project.ipynb#W3sZmlsZQ%3D%3D?line=2'>3</a>\u001b[0m results \u001b[39m=\u001b[39m cursor\u001b[39m.\u001b[39mfitchall()\n",
      "File \u001b[1;32m~\\AppData\\Local\\Packages\\PythonSoftwareFoundation.Python.3.8_qbz5n2kfra8p0\\LocalCache\\local-packages\\Python38\\site-packages\\mysql\\connector\\cursor.py:582\u001b[0m, in \u001b[0;36mMySQLCursor.execute\u001b[1;34m(self, operation, params, multi)\u001b[0m\n\u001b[0;32m    579\u001b[0m \u001b[39mexcept\u001b[39;00m (ProgrammingError, \u001b[39mReferenceError\u001b[39;00m) \u001b[39mas\u001b[39;00m err:\n\u001b[0;32m    580\u001b[0m     \u001b[39mraise\u001b[39;00m ProgrammingError(\u001b[39m\"\u001b[39m\u001b[39mCursor is not connected\u001b[39m\u001b[39m\"\u001b[39m) \u001b[39mfrom\u001b[39;00m \u001b[39merr\u001b[39;00m\n\u001b[1;32m--> 582\u001b[0m \u001b[39mself\u001b[39;49m\u001b[39m.\u001b[39;49m_connection\u001b[39m.\u001b[39;49mhandle_unread_result()\n\u001b[0;32m    584\u001b[0m \u001b[39mself\u001b[39m\u001b[39m.\u001b[39m_reset_result()\n\u001b[0;32m    585\u001b[0m stmt: StrOrBytes \u001b[39m=\u001b[39m \u001b[39m\"\u001b[39m\u001b[39m\"\u001b[39m\n",
      "File \u001b[1;32m~\\AppData\\Local\\Packages\\PythonSoftwareFoundation.Python.3.8_qbz5n2kfra8p0\\LocalCache\\local-packages\\Python38\\site-packages\\mysql\\connector\\connection.py:1741\u001b[0m, in \u001b[0;36mMySQLConnection.handle_unread_result\u001b[1;34m(self)\u001b[0m\n\u001b[0;32m   1739\u001b[0m     \u001b[39mself\u001b[39m\u001b[39m.\u001b[39mconsume_results()\n\u001b[0;32m   1740\u001b[0m \u001b[39melif\u001b[39;00m \u001b[39mself\u001b[39m\u001b[39m.\u001b[39munread_result:\n\u001b[1;32m-> 1741\u001b[0m     \u001b[39mraise\u001b[39;00m InternalError(\u001b[39m\"\u001b[39m\u001b[39mUnread result found\u001b[39m\u001b[39m\"\u001b[39m)\n",
      "\u001b[1;31mInternalError\u001b[0m: Unread result found"
     ]
    }
   ],
   "source": [
    "show_tables_query = \"SHOW tables\"\n",
    "cursor.execute(show_tables_query)\n",
    "results = cursor.fitchall()"
   ]
  },
  {
   "cell_type": "code",
   "execution_count": null,
   "metadata": {},
   "outputs": [],
   "source": []
  }
 ],
 "metadata": {
  "kernelspec": {
   "display_name": "Python 3",
   "language": "python",
   "name": "python3"
  },
  "language_info": {
   "codemirror_mode": {
    "name": "ipython",
    "version": 3
   },
   "file_extension": ".py",
   "mimetype": "text/x-python",
   "name": "python",
   "nbconvert_exporter": "python",
   "pygments_lexer": "ipython3",
   "version": "3.8.10"
  },
  "orig_nbformat": 4
 },
 "nbformat": 4,
 "nbformat_minor": 2
}
